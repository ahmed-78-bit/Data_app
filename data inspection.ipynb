{
  "nbformat": 4,
  "nbformat_minor": 0,
  "metadata": {
    "colab": {
      "provenance": []
    },
    "kernelspec": {
      "name": "python3",
      "display_name": "Python 3"
    },
    "language_info": {
      "name": "python"
    }
  },
  "cells": [
    {
      "cell_type": "code",
      "source": [
        "# prompt:  Läsa in data från en SQL-databas Köksglädje.db  Transactions, TransactionDetails, Stores\n",
        "\n",
        "import sqlite3\n",
        "import pandas as pd\n",
        "\n",
        "# Connect to the database\n",
        "conn = sqlite3.connect('Köksglädje.db')\n",
        "\n",
        "# Function to read data from a table\n",
        "def read_table(table_name):\n",
        "    try:\n",
        "        query = f\"SELECT * FROM {table_name};\"\n",
        "        df = pd.read_sql_query(query, conn)\n",
        "        return df\n",
        "    except Exception as e:\n",
        "        print(f\"Error reading table {table_name}: {e}\")\n",
        "        return None\n",
        "\n",
        "# Read data from each table\n",
        "transactions_df = read_table(\"Transactions\")\n",
        "transaction_details_df = read_table(\"TransactionDetails\")\n",
        "stores_df = read_table(\"Stores\")\n",
        "\n",
        "# Print the first few rows of each DataFrame (optional)\n",
        "if transactions_df is not None:\n",
        "  print(\"Transactions:\")\n",
        "  print(transactions_df.head())\n",
        "\n",
        "if transaction_details_df is not None:\n",
        "  print(\"\\nTransactionDetails:\")\n",
        "  print(transaction_details_df.head())\n",
        "\n",
        "if stores_df is not None:\n",
        "  print(\"\\nStores:\")\n",
        "  print(stores_df.head())\n",
        "\n",
        "# Close the connection\n",
        "conn.close()"
      ],
      "metadata": {
        "colab": {
          "base_uri": "https://localhost:8080/"
        },
        "id": "O9hE2uuTTAHc",
        "outputId": "623959cb-46e5-4f56-8990-cfc45485f5ee"
      },
      "execution_count": 18,
      "outputs": [
        {
          "output_type": "stream",
          "name": "stdout",
          "text": [
            "Transactions:\n",
            "   TransactionID  StoreID  CustomerID TransactionDate\n",
            "0              1        8          62     2021-05-04 \n",
            "1              2        2          11     2021-05-04 \n",
            "2              3        1          66     2021-05-04 \n",
            "3              4        6          23     2021-05-05 \n",
            "4              5        8          75     2021-05-05 \n",
            "\n",
            "TransactionDetails:\n",
            "   TransactionDetailID  TransactionID  ProductID  Quantity  PriceAtPurchase  \\\n",
            "0                    1              1         14         1            899.0   \n",
            "1                    2              1         23         3            249.0   \n",
            "2                    3              1         37         1            199.0   \n",
            "3                    4              1          8         1            699.0   \n",
            "4                    5              2          2         1            799.0   \n",
            "\n",
            "   TotalPrice  \n",
            "0       899.0  \n",
            "1       747.0  \n",
            "2       199.0  \n",
            "3       699.0  \n",
            "4       799.0  \n",
            "\n",
            "Stores:\n",
            "   StoreID                    StoreName   Location\n",
            "0        1        Köksbutiken Stockholm  Stockholm\n",
            "1        2    Stockholms Knivspecialist  Stockholm\n",
            "2        3  Matlagningshörnan Stockholm  Stockholm\n",
            "3        4            Stockholm Gourmet  Stockholm\n",
            "4        5   Matlagningshörnan Göteborg   Göteborg\n"
          ]
        }
      ]
    },
    {
      "cell_type": "code",
      "source": [
        "import sqlite3\n",
        "import pandas as pd\n",
        "\n",
        "# Connect to the SQLite database\n",
        "conn = sqlite3.connect('Köksglädje.db')\n",
        "\n",
        "# Load the necessary tables into DataFrames\n",
        "transactions = pd.read_sql_query(\"SELECT * FROM Transactions\", conn)\n",
        "transaction_details = pd.read_sql_query(\"SELECT * FROM TransactionDetails\", conn)\n",
        "stores = pd.read_sql_query(\"SELECT * FROM Stores\", conn)\n",
        "\n",
        "# Merge the DataFrames to get the required columns\n",
        "merged_df = pd.merge(transactions, transaction_details, on='TransactionID')\n",
        "merged_df = pd.merge(merged_df, stores, on='StoreID')\n",
        "\n",
        "# Group by StoreID and StoreName, and calculate the total sales volume\n",
        "sales_volume = merged_df.groupby(['StoreID', 'StoreName']).agg({'TotalPrice': 'sum'}).reset_index()\n",
        "\n",
        "# Sort the result by TotalPrice in descending order\n",
        "sales_volume = sales_volume.sort_values(by='TotalPrice', ascending=False)\n",
        "\n",
        "# Display the result\n",
        "print(sales_volume)\n"
      ],
      "metadata": {
        "colab": {
          "base_uri": "https://localhost:8080/"
        },
        "id": "Nvb8UbW0U536",
        "outputId": "445948e1-1fa8-429e-9a7a-ccef0d63d86e"
      },
      "execution_count": 20,
      "outputs": [
        {
          "output_type": "stream",
          "name": "stdout",
          "text": [
            "   StoreID                     StoreName  TotalPrice\n",
            "0        1         Köksbutiken Stockholm    304139.0\n",
            "1        2     Stockholms Knivspecialist    302076.0\n",
            "3        4             Stockholm Gourmet    298087.0\n",
            "2        3   Matlagningshörnan Stockholm    290954.0\n",
            "5        6  Grytor & Stekpannor Göteborg    277167.0\n",
            "4        5    Matlagningshörnan Göteborg    220349.0\n",
            "6        7          Köksredskap Göteborg    218065.0\n",
            "8        9              Malmö Gourmetkök    176275.0\n",
            "7        8            Köksproffset Malmö    146298.0\n"
          ]
        }
      ]
    },
    {
      "cell_type": "code",
      "source": [
        "import sqlite3\n",
        "import pandas as pd\n",
        "import streamlit as st\n",
        "\n",
        "# Connect to the SQLite database\n",
        "conn = sqlite3.connect('Köksglädje.db')\n",
        "\n",
        "# Load the necessary tables into DataFrames\n",
        "transactions = pd.read_sql_query(\"SELECT * FROM Transactions\", conn)\n",
        "transaction_details = pd.read_sql_query(\"SELECT * FROM TransactionDetails\", conn)\n",
        "stores = pd.read_sql_query(\"SELECT * FROM Stores\", conn)\n",
        "\n",
        "# Merge the DataFrames to get the required columns\n",
        "merged_df = pd.merge(transactions, transaction_details, on='TransactionID')\n",
        "merged_df = pd.merge(merged_df, stores, on='StoreID')\n",
        "\n",
        "# Group by StoreID and StoreName, and calculate the total sales volume\n",
        "sales_volume = merged_df.groupby(['StoreID', 'StoreName']).agg({'TotalPrice': 'sum'}).reset_index()\n",
        "\n",
        "# Sort the result by TotalPrice in descending order\n",
        "sales_volume = sales_volume.sort_values(by='TotalPrice', ascending=False)\n",
        "\n",
        "# Streamlit app\n",
        "st.title('Sales Volume by Store')\n",
        "st.write('This app presents the sales volume for each store.')\n",
        "\n",
        "# Display the sales volume data\n",
        "st.dataframe(sales_volume)\n",
        "\n",
        "# Plot the sales volume data\n",
        "st.bar_chart(sales_volume.set_index('StoreName')['TotalPrice'])\n"
      ],
      "metadata": {
        "colab": {
          "base_uri": "https://localhost:8080/"
        },
        "id": "B4XDL4OyVA7h",
        "outputId": "cfa4eced-d70d-4ce9-ec09-e5187c3deaf8"
      },
      "execution_count": 24,
      "outputs": [
        {
          "output_type": "stream",
          "name": "stderr",
          "text": [
            "2025-01-24 22:02:55.238 WARNING streamlit.runtime.scriptrunner_utils.script_run_context: Thread 'MainThread': missing ScriptRunContext! This warning can be ignored when running in bare mode.\n",
            "2025-01-24 22:02:55.384 \n",
            "  \u001b[33m\u001b[1mWarning:\u001b[0m to view this Streamlit app on a browser, run it with the following\n",
            "  command:\n",
            "\n",
            "    streamlit run /usr/local/lib/python3.11/dist-packages/colab_kernel_launcher.py [ARGUMENTS]\n",
            "2025-01-24 22:02:55.387 Thread 'MainThread': missing ScriptRunContext! This warning can be ignored when running in bare mode.\n",
            "2025-01-24 22:02:55.389 Thread 'MainThread': missing ScriptRunContext! This warning can be ignored when running in bare mode.\n",
            "2025-01-24 22:02:55.394 Thread 'MainThread': missing ScriptRunContext! This warning can be ignored when running in bare mode.\n",
            "2025-01-24 22:02:55.395 Thread 'MainThread': missing ScriptRunContext! This warning can be ignored when running in bare mode.\n",
            "2025-01-24 22:02:55.397 Thread 'MainThread': missing ScriptRunContext! This warning can be ignored when running in bare mode.\n",
            "2025-01-24 22:02:55.458 Thread 'MainThread': missing ScriptRunContext! This warning can be ignored when running in bare mode.\n",
            "2025-01-24 22:02:55.464 Thread 'MainThread': missing ScriptRunContext! This warning can be ignored when running in bare mode.\n",
            "2025-01-24 22:02:56.067 Thread 'MainThread': missing ScriptRunContext! This warning can be ignored when running in bare mode.\n",
            "2025-01-24 22:02:56.072 Thread 'MainThread': missing ScriptRunContext! This warning can be ignored when running in bare mode.\n"
          ]
        },
        {
          "output_type": "execute_result",
          "data": {
            "text/plain": [
              "DeltaGenerator()"
            ]
          },
          "metadata": {},
          "execution_count": 24
        }
      ]
    },
    {
      "cell_type": "code",
      "source": [
        "import sqlite3\n",
        "import pandas as pd\n",
        "import streamlit as st\n",
        "\n",
        "def streamlit_app():\n",
        "    # Connect to the SQLite database\n",
        "    conn = sqlite3.connect('Köksglädje.db')\n",
        "\n",
        "    # Load the necessary tables into DataFrames\n",
        "    transactions = pd.read_sql_query(\"SELECT * FROM Transactions\", conn)\n",
        "    transaction_details = pd.read_sql_query(\"SELECT * FROM TransactionDetails\", conn)\n",
        "    stores = pd.read_sql_query(\"SELECT * FROM Stores\", conn)\n",
        "\n",
        "    # Merge the DataFrames to get the required columns\n",
        "    merged_df = pd.merge(transactions, transaction_details, on='TransactionID')\n",
        "    merged_df = pd.merge(merged_df, stores, on='StoreID')\n",
        "\n",
        "    # Group by StoreID and StoreName, and calculate the total sales volume\n",
        "    sales_volume = merged_df.groupby(['StoreID', 'StoreName']).agg({'TotalPrice': 'sum'}).reset_index()\n",
        "\n",
        "    # Sort the result by TotalPrice in descending order\n",
        "    sales_volume = sales_volume.sort_values(by='TotalPrice', ascending=False)\n",
        "\n",
        "    # Streamlit app\n",
        "    st.title('Sales Volume by Store')\n",
        "    st.write('This app presents the sales volume for each store.')\n",
        "\n",
        "    # Display the sales volume data\n",
        "    st.dataframe(sales_volume)\n",
        "\n",
        "    # Plot the sales volume data\n",
        "    st.bar_chart(sales_volume.set_index('StoreName')['TotalPrice'])\n",
        "\n",
        "# Call the function to run the Streamlit app\n",
        "if __name__ == '__main__':\n",
        "    streamlit_app()\n"
      ],
      "metadata": {
        "colab": {
          "base_uri": "https://localhost:8080/"
        },
        "id": "EUdZkVebnwce",
        "outputId": "cb8dd6eb-4b2c-431c-886c-41f0522e43b4"
      },
      "execution_count": 29,
      "outputs": [
        {
          "output_type": "stream",
          "name": "stderr",
          "text": [
            "2025-01-24 23:21:38.369 Thread 'MainThread': missing ScriptRunContext! This warning can be ignored when running in bare mode.\n",
            "2025-01-24 23:21:38.373 Thread 'MainThread': missing ScriptRunContext! This warning can be ignored when running in bare mode.\n",
            "2025-01-24 23:21:38.376 Thread 'MainThread': missing ScriptRunContext! This warning can be ignored when running in bare mode.\n",
            "2025-01-24 23:21:38.379 Thread 'MainThread': missing ScriptRunContext! This warning can be ignored when running in bare mode.\n",
            "2025-01-24 23:21:38.381 Thread 'MainThread': missing ScriptRunContext! This warning can be ignored when running in bare mode.\n",
            "2025-01-24 23:21:38.382 Thread 'MainThread': missing ScriptRunContext! This warning can be ignored when running in bare mode.\n",
            "2025-01-24 23:21:38.388 Thread 'MainThread': missing ScriptRunContext! This warning can be ignored when running in bare mode.\n",
            "2025-01-24 23:21:38.392 Thread 'MainThread': missing ScriptRunContext! This warning can be ignored when running in bare mode.\n",
            "2025-01-24 23:21:38.417 Thread 'MainThread': missing ScriptRunContext! This warning can be ignored when running in bare mode.\n",
            "2025-01-24 23:21:38.420 Thread 'MainThread': missing ScriptRunContext! This warning can be ignored when running in bare mode.\n"
          ]
        }
      ]
    }
  ]
}